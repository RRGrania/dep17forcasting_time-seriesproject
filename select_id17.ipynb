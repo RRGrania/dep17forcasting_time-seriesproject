{
 "cells": [
  {
   "cell_type": "code",
   "execution_count": 1,
   "id": "6945a506",
   "metadata": {},
   "outputs": [],
   "source": [
    "import pandas as pd"
   ]
  },
  {
   "cell_type": "code",
   "execution_count": 2,
   "id": "a2c95dd2",
   "metadata": {},
   "outputs": [],
   "source": [
    "df = pd.read_csv(\"project_dataset.csv\")\n",
    "df_dept17 = df[df['Dept'] == 17].copy()"
   ]
  },
  {
   "cell_type": "code",
   "execution_count": 3,
   "id": "1fadb430",
   "metadata": {},
   "outputs": [],
   "source": [
    "# Save df_dept17 to a CSV file\n",
    "df_dept17.to_csv(\"department_17_sales.csv\", index=False)\n"
   ]
  },
  {
   "cell_type": "code",
   "execution_count": null,
   "id": "aea037f0",
   "metadata": {},
   "outputs": [],
   "source": []
  }
 ],
 "metadata": {
  "kernelspec": {
   "display_name": "base",
   "language": "python",
   "name": "python3"
  },
  "language_info": {
   "codemirror_mode": {
    "name": "ipython",
    "version": 3
   },
   "file_extension": ".py",
   "mimetype": "text/x-python",
   "name": "python",
   "nbconvert_exporter": "python",
   "pygments_lexer": "ipython3",
   "version": "3.11.5"
  }
 },
 "nbformat": 4,
 "nbformat_minor": 5
}
